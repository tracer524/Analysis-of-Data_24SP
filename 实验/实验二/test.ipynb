{
 "cells": [
  {
   "cell_type": "code",
   "execution_count": 27,
   "metadata": {},
   "outputs": [],
   "source": [
    "from urllib.request import urlopen\n",
    "import re \n",
    "\n",
    "response = urlopen(url=\"https://dblp.dagstuhl.de/pid/211/5760.html\")\n",
    "html = response.read().decode(\"utf-8\")"
   ]
  },
  {
   "cell_type": "code",
   "execution_count": 47,
   "metadata": {},
   "outputs": [
    {
     "name": "stdout",
     "output_type": "stream",
     "text": [
      "{'authors': ['Florian Adriaens', 'Honglian Wang', 'Aristides Gionis'], 'title': 'Minimizing Hitting Time between Disparate Groups with Shortcut Edges.', 'publishInfo': 'KDD: 1-10', 'year': '2023'}\n",
      "{'authors': ['Florian Adriaens', 'Simon Apers'], 'title': 'Testing Cluster Properties of Signed Graphs.', 'publishInfo': 'WWW: 49-59', 'year': '2023'}\n",
      "{'authors': ['Florian Adriaens', 'Honglian Wang', 'Aristides Gionis'], 'title': 'Minimizing Hitting Time between Disparate Groups with Shortcut Edges.', 'publishInfo': 'CoRR abs/2306.03571', 'year': '2023'}\n",
      "{'authors': ['Ruo-Chun Tzeng', 'Po-An Wang', 'Florian Adriaens', 'Aristides Gionis', 'Chi-Jen Lu'], 'title': 'Improved analysis of randomized SVD for top-eigenvector approximation.', 'publishInfo': 'AISTATS: 2045-2072', 'year': '2022'}\n",
      "{'authors': ['Florian Adriaens', 'Aristides Gionis'], 'title': 'Diameter Minimization by Shortcutting with Degree Constraints.', 'publishInfo': 'ICDM: 843-848', 'year': '2022'}\n",
      "{'authors': ['Ruo-Chun Tzeng', 'Po-An Wang', 'Florian Adriaens', 'Aristides Gionis', 'Chi-Jen Lu'], 'title': 'Improved analysis of randomized SVD for top-eigenvector approximation.', 'publishInfo': 'CoRR abs/2202.07992', 'year': '2022'}\n",
      "{'authors': ['Florian Adriaens', 'Aristides Gionis'], 'title': 'Diameter Minimization by Shortcutting with Degree Constraints.', 'publishInfo': 'CoRR abs/2209.00370', 'year': '2022'}\n",
      "{'authors': ['Florian Adriaens', 'Simon Apers'], 'title': 'Testing properties of signed graphs.', 'publishInfo': 'CoRR abs/2102.07587', 'year': '2021'}\n",
      "{'authors': ['Florian Adriaens', 'Tijl De Bie', 'Aristides Gionis', 'Jefrey Lijffijt', 'Antonis Matakos', 'Polina Rozenshtein'], 'title': 'Relaxing the strong triadic closure problem for edge strength inference.', 'publishInfo': 'Data Min. Knowl. Discov. 34(3): 611-651', 'year': '2020'}\n",
      "{'authors': ['Florian Adriaens', 'Alexandru Mara', 'Jefrey Lijffijt', 'Tijl De Bie'], 'title': 'Block-Approximated Exponential Random Graphs.', 'publishInfo': 'DSAA: 70-80', 'year': '2020'}\n",
      "{'authors': ['Florian Adriaens', 'Alexandru Mara', 'Jefrey Lijffijt', 'Tijl De Bie'], 'title': 'Scalable Dyadic Independence Models with Local and Global Constraints.', 'publishInfo': 'CoRR abs/2002.07076', 'year': '2020'}\n",
      "Error\n"
     ]
    }
   ],
   "source": []
  }
 ],
 "metadata": {
  "kernelspec": {
   "display_name": "base",
   "language": "python",
   "name": "python3"
  },
  "language_info": {
   "codemirror_mode": {
    "name": "ipython",
    "version": 3
   },
   "file_extension": ".py",
   "mimetype": "text/x-python",
   "name": "python",
   "nbconvert_exporter": "python",
   "pygments_lexer": "ipython3",
   "version": "3.11.5"
  }
 },
 "nbformat": 4,
 "nbformat_minor": 2
}
